{
 "cells": [
  {
   "cell_type": "code",
   "execution_count": 23,
   "id": "61e9cb25-967e-47fb-abb0-b7b0da1e9cc7",
   "metadata": {},
   "outputs": [
    {
     "name": "stdout",
     "output_type": "stream",
     "text": [
      "Starting video download at 2023-12-02 16:27:30.935957\n",
      "Video downloaded successfully in 2 minutes and 4 seconds\n",
      "Completed video download at 2023-12-02 16:29:35.681697\n"
     ]
    }
   ],
   "source": [
    "#import sys\n",
    "#!{sys.executable} -m pip install numpy\n",
    "#!pip install pytube\n",
    "#!pip install tweepy\n",
    "import requests\n",
    "\n",
    "from pytube import YouTube\n",
    "from datetime import datetime\n",
    "\n",
    "def download_youtube_video(video_url, output_path=\".\"):\n",
    "    try:\n",
    "        # Create a YouTube object\n",
    "        youtube = YouTube(video_url)\n",
    "\n",
    "        # Get the current timestamp\n",
    "        current_timestamp_start = datetime.now()\n",
    "\n",
    "        print(f\"Starting video download at {current_timestamp_start}\")\n",
    "        # Get the highest resolution stream\n",
    "        video_stream = youtube.streams.get_highest_resolution()\n",
    "\n",
    "        # Download the video\n",
    "        video_stream.download(output_path)\n",
    "        \n",
    "        # Get the current timestamp\n",
    "        current_timestamp_end = datetime.now()\n",
    "        \n",
    "        # Calculate time taken\n",
    "        time_for_download = current_timestamp_end -  current_timestamp_start\n",
    "        \n",
    "        # Extract minutes and seconds\n",
    "        minutes = time_for_download.seconds // 60\n",
    "        seconds = time_for_download.seconds % 60\n",
    "        \n",
    "        print(f\"Video downloaded successfully in {minutes} minutes and {seconds} seconds\")\n",
    "        print(f\"Completed video download at {current_timestamp_end}\")\n",
    "    except Exception as e:\n",
    "        print(f\"Error: {e}\")\n",
    "        \n",
    "video_url = \"https://www.youtube.com/watch?v=--FNqFKmFNg\"\n",
    "download_youtube_video(video_url, output_path=\"\")\n",
    "\n",
    "# Example usage\n",
    "#video_url = \"URL_of_Video_To_Be_Downloaded",
    "#download_youtube_video(video_url, output_path=\"your_output_directory_here\")\n"
   ]
  },
  {
   "cell_type": "code",
   "execution_count": null,
   "id": "60630768-9a01-40c1-b842-81f7d7b98e60",
   "metadata": {},
   "outputs": [],
   "source": []
  }
 ],
 "metadata": {
  "kernelspec": {
   "display_name": "Python 3 (ipykernel)",
   "language": "python",
   "name": "python3"
  },
  "language_info": {
   "codemirror_mode": {
    "name": "ipython",
    "version": 3
   },
   "file_extension": ".py",
   "mimetype": "text/x-python",
   "name": "python",
   "nbconvert_exporter": "python",
   "pygments_lexer": "ipython3",
   "version": "3.10.9"
  }
 },
 "nbformat": 4,
 "nbformat_minor": 5
}
